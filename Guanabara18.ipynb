{
  "nbformat": 4,
  "nbformat_minor": 0,
  "metadata": {
    "colab": {
      "provenance": [],
      "authorship_tag": "ABX9TyOZwtTHBSGVx+x4JH+zX1wi",
      "include_colab_link": true
    },
    "kernelspec": {
      "name": "python3",
      "display_name": "Python 3"
    },
    "language_info": {
      "name": "python"
    }
  },
  "cells": [
    {
      "cell_type": "markdown",
      "metadata": {
        "id": "view-in-github",
        "colab_type": "text"
      },
      "source": [
        "<a href=\"https://colab.research.google.com/github/burgosje/Guanabara_Aula18/blob/main/Guanabara18.ipynb\" target=\"_parent\"><img src=\"https://colab.research.google.com/assets/colab-badge.svg\" alt=\"Open In Colab\"/></a>"
      ]
    },
    {
      "cell_type": "markdown",
      "source": [
        "Aula 18 Curso em Vídeo Guanabara"
      ],
      "metadata": {
        "id": "XUuVTjJ4toB9"
      }
    },
    {
      "cell_type": "markdown",
      "source": [
        "Listas (Parte 2)"
      ],
      "metadata": {
        "id": "b-awEpudcDKA"
      }
    },
    {
      "cell_type": "code",
      "execution_count": 1,
      "metadata": {
        "id": "RWW5ddAEb6Ta",
        "colab": {
          "base_uri": "https://localhost:8080/"
        },
        "outputId": "0ecc58b7-02c3-4c99-9284-f4f3f00b7501"
      },
      "outputs": [
        {
          "output_type": "stream",
          "name": "stdout",
          "text": [
            "Pedro\n",
            "25\n"
          ]
        }
      ],
      "source": [
        "dados = list()\n",
        "\n",
        "dados.append(\"Pedro\")\n",
        "\n",
        "dados.append(25)\n",
        "\n",
        "print(dados[0])\n",
        "\n",
        "print(dados[1])"
      ]
    },
    {
      "cell_type": "code",
      "source": [
        "teste = list()\n",
        "teste.append(\"Jé\")\n",
        "teste.append(32)\n",
        "\n",
        "print(teste)"
      ],
      "metadata": {
        "colab": {
          "base_uri": "https://localhost:8080/"
        },
        "id": "Px6XHk6UeRme",
        "outputId": "378bad86-42a5-4548-fd91-39cdd08028bf"
      },
      "execution_count": null,
      "outputs": [
        {
          "output_type": "stream",
          "name": "stdout",
          "text": [
            "['Jé', 32]\n"
          ]
        }
      ]
    },
    {
      "cell_type": "code",
      "source": [
        "teste = list()\n",
        "teste.append(\"Jé\")\n",
        "teste.append(32)\n",
        "galera = list()\n",
        "galera.append(teste[:])\n",
        "teste[0] = \"Maria\"\n",
        "teste[1] = 22\n",
        "galera.append(teste[:])\n",
        "\n",
        "print(galera)"
      ],
      "metadata": {
        "colab": {
          "base_uri": "https://localhost:8080/"
        },
        "id": "zPOo8hmqXtXQ",
        "outputId": "242e6c1a-a1e2-4133-90db-be0aa5c575f4"
      },
      "execution_count": null,
      "outputs": [
        {
          "output_type": "stream",
          "name": "stdout",
          "text": [
            "[['Jé', 32], ['Maria', 22]]\n"
          ]
        }
      ]
    },
    {
      "cell_type": "code",
      "source": [
        "galera =[[\"João\", 19], [\"Ana\", 33], [\"Joaquim\", 13], [\"Maria\", 45]]\n",
        "print(galera)\n",
        "print(galera[0])\n",
        "print(galera[0][0])\n",
        "print(galera[2][1])"
      ],
      "metadata": {
        "colab": {
          "base_uri": "https://localhost:8080/"
        },
        "id": "yHniXSsoYL_k",
        "outputId": "d11f508a-2e78-41f3-f8e1-da701cdb49c1"
      },
      "execution_count": null,
      "outputs": [
        {
          "output_type": "stream",
          "name": "stdout",
          "text": [
            "[['João', 19], ['Ana', 33], ['Joaquim', 13], ['Maria', 45]]\n",
            "['João', 19]\n",
            "João\n",
            "13\n"
          ]
        }
      ]
    },
    {
      "cell_type": "code",
      "source": [
        "galera = [[\"João\", 19], [\"Ana\", 33], [\"Joaquim\", 13], [\"Maria\", 45]]\n",
        "for p in galera:\n",
        "  print(p[0])\n",
        "  print(p[1])\n",
        "  print(f\"{p[0]} tem {p[1]} anos de idade\")"
      ],
      "metadata": {
        "id": "dQudSbCBY8sl"
      },
      "execution_count": null,
      "outputs": []
    },
    {
      "cell_type": "code",
      "source": [
        "galera = list()\n",
        "dado = list()\n",
        "\n",
        "for c in range(0, 3):\n",
        "  dado.append(input(\"Nome: \"))\n",
        "  dado.append(int(input(\"Idade: \")))\n",
        "  galera.append(dado[:])\n",
        "  dado.clear()\n",
        "\n",
        "print(galera)"
      ],
      "metadata": {
        "colab": {
          "base_uri": "https://localhost:8080/"
        },
        "id": "qu2sDpdVZ_eg",
        "outputId": "255bfcc9-0da6-4879-aec3-e9fe89d588dc"
      },
      "execution_count": null,
      "outputs": [
        {
          "output_type": "stream",
          "name": "stdout",
          "text": [
            "Nome: Jé 32\n",
            "Idade: 32\n",
            "Nome: Mari\n",
            "Idade: 45\n",
            "Nome: Petrus\n",
            "Idade: 56\n",
            "[['Jé 32', 32], ['Mari', 45], ['Petrus', 56]]\n"
          ]
        }
      ]
    },
    {
      "cell_type": "code",
      "source": [
        "galera = list()\n",
        "dado = list()\n",
        "totmai = totmen = 0\n",
        "\n",
        "for c in range(0, 3):\n",
        "  dado.append(input(\"Nome: \"))\n",
        "  dado.append(int(input(\"Idade: \")))\n",
        "  galera.append(dado[:])\n",
        "  dado.clear()\n",
        "\n",
        "for p in galera:\n",
        "  if p[1] >= 21:\n",
        "    print(f\"{p[0]} é maior de idade\")\n",
        "    totmai += 1\n",
        "  else:\n",
        "    print(f\"{p[0]} é menor de idade\")\n",
        "    totmen += 1\n",
        "\n",
        "print(f\"Temos {totmai} maiores de idade e {totmen} menores de idade\")"
      ],
      "metadata": {
        "colab": {
          "base_uri": "https://localhost:8080/"
        },
        "id": "tAqd_4e9avrb",
        "outputId": "e075d1cd-2760-46e9-ecb8-dd27b9f7d646"
      },
      "execution_count": null,
      "outputs": [
        {
          "output_type": "stream",
          "name": "stdout",
          "text": [
            "Nome: Jé 32\n",
            "Idade: 32\n",
            "Nome: Igor 43\n",
            "Idade: 43\n",
            "Nome: Lu\n",
            "Idade: 12\n",
            "Jé 32 é maior de idade\n",
            "Igor 43 é maior de idade\n",
            "Lu é menor de idade\n",
            "Temos 2 maiores de idade e 1 menores de idade\n"
          ]
        }
      ]
    },
    {
      "cell_type": "markdown",
      "source": [
        "Faça um programa que leia nome e peso de várias pessoas guardando tudo em uma lista. No final, mostre:\n",
        "\n",
        "\n",
        "1.   Quantas pessoas foram cadastradas\n",
        "2.   Uma listagem com as pessoas mais pesadas\n",
        "3. Uma listagem com as pessoas mais leves\n",
        "\n"
      ],
      "metadata": {
        "id": "gwY7MpR-cHiy"
      }
    },
    {
      "cell_type": "code",
      "source": [
        "temp = []\n",
        "princ = []\n",
        "mai = men = 0\n",
        "\n",
        "while True:\n",
        "  temp.append(input(\"Nome: \"))\n",
        "  temp.append(float(input(\"Peso: \")))\n",
        "  if len(princ) == 0:\n",
        "    mai = men = temp[1]\n",
        "  else:\n",
        "    if temp[1] > mai:\n",
        "      mai = temp[1]\n",
        "    if temp[1] < men:\n",
        "      men = temp[1]\n",
        "  princ.append(temp[:])\n",
        "  temp.clear()\n",
        "  resp = input(\"Quer continuar: [S/N] \")\n",
        "  if resp in \"Nn\":\n",
        "    break\n",
        "\n",
        "print(f\"Ao todo, você cadastrou {len(princ)} pessoas.\")\n",
        "print(f\"O maior peso foi de {mai}kg. Peso de \", end=\"\")\n",
        "for p in princ:\n",
        "  if p[1] == mai:\n",
        "    print(f\"[{p[0]}] \", end = \"\")\n",
        "print()\n",
        "print(f\"O menor peso foi de {men}kg. Peso de \", end=\"\")\n",
        "for p in princ:\n",
        "  if p[1] == men:\n",
        "    print(f\"[{p[0]}] \", end=\"\")\n",
        "print()"
      ],
      "metadata": {
        "id": "XsOtMz_8cHAS"
      },
      "execution_count": null,
      "outputs": []
    },
    {
      "cell_type": "markdown",
      "source": [
        "Crie um programa onde o usuário possa digitar sete valores numéricos e cadastre-os em uma lista única que mantenha separados os valores pares e ímpares. No final, mostre os valores pares e ímpares em ordem crescente"
      ],
      "metadata": {
        "id": "J8cS-RcihnR5"
      }
    },
    {
      "cell_type": "code",
      "source": [
        "num = [[], []]\n",
        "valor = 0\n",
        "\n",
        "for c in range (1,8):\n",
        "  valor = int(input(f\"Digite o {c}º valor: \"))\n",
        "  if valor % 2 == 0:\n",
        "    num[0].append(valor)\n",
        "  else:\n",
        "    num[1].append(valor)\n",
        "\n",
        "num[0].sort()\n",
        "num[1].sort()\n",
        "print(f\"Os valores pares digitados foram: {num[0]}\")\n",
        "print(f\"Os valores ímpares digitados foram: {num[1]}\")"
      ],
      "metadata": {
        "id": "fSOPCuBrh7zT"
      },
      "execution_count": null,
      "outputs": []
    },
    {
      "cell_type": "code",
      "source": [
        "#Crie um programa que crie uma matriz de dimensão 3x3 e preencha com valores\n",
        "#lidos pelo teclado\n",
        "#No final, mostre a matriz na tela, com a formatação correta\n",
        "\n",
        "matriz = [[0, 0, 0], [0, 0, 0], [0, 0, 0]]\n",
        "\n",
        "for l in range(0, 3):\n",
        "  for c in range(0, 3):\n",
        "    matriz[l][c] = int(input(f\"Digite um valor para [{l}, {c}]: \"))\n",
        "\n",
        "for l in range (0, 3):\n",
        "  for c in range (0, 3):\n",
        "    print(f\"[{matriz[l][c]:^5}]\", end=\"\")\n",
        "  print()"
      ],
      "metadata": {
        "id": "JAzWo9PoNcdp"
      },
      "execution_count": null,
      "outputs": []
    },
    {
      "cell_type": "code",
      "source": [
        "#Crie um programa que crie uma matriz de dimensão 3x3 e preencha com valores\n",
        "#lidos pelo teclado\n",
        "#No final, mostre a matriz na tela, com a formatação correta\n",
        "#a) A soma de todos os valores pares digitados;\n",
        "#b) A soma de todos os valores da terceira coluna:\n",
        "#c) O maior valor da segunda linha.\n",
        "\n",
        "matriz = [[0, 0, 0], [0, 0, 0], [0, 0, 0]]\n",
        "spar = mai = scol = 0\n",
        "\n",
        "for l in range(0, 3):\n",
        "  for c in range(0, 3):\n",
        "    matriz[l][c] = int(input(f\"Digite um valor para [{l}, {c}]: \"))\n",
        "\n",
        "for l in range(0, 3):\n",
        "  for c in range(0, 3):\n",
        "    print(f\"[{matriz[l][c]:^5}]\", end=\"\")\n",
        "    if matriz[l][c] % 2 == 0:\n",
        "      spar += matriz[l][c]\n",
        "  print()\n",
        "\n",
        "print(f\"A soma dos valores pares é {spar}\")\n",
        "\n",
        "for l in range(0, 3):\n",
        "  scol += matriz[l][2]\n",
        "\n",
        "print(f\"A soma dos valores da terceira coluna é {scol}\")\n",
        "\n",
        "for c in range(0, 3):\n",
        "  if c == 0:\n",
        "    mai = matriz[1][c]\n",
        "  elif matriz[l][c] > mai:\n",
        "    mai = matriz[1][c]\n",
        "print(f\"O maior valor da segunda linha é {mai} \")"
      ],
      "metadata": {
        "colab": {
          "base_uri": "https://localhost:8080/"
        },
        "id": "zAT4WCC9RsvN",
        "outputId": "fad7d502-fae5-4e20-cbf3-6be64fe3ebff"
      },
      "execution_count": null,
      "outputs": [
        {
          "output_type": "stream",
          "name": "stdout",
          "text": [
            "Digite um valor para [0, 0]: 1\n",
            "Digite um valor para [0, 1]: 2\n",
            "Digite um valor para [0, 2]: 3\n",
            "Digite um valor para [1, 0]: 4\n",
            "Digite um valor para [1, 1]: 5\n",
            "Digite um valor para [1, 2]: 6\n",
            "Digite um valor para [2, 0]: 7\n",
            "Digite um valor para [2, 1]: 8\n",
            "Digite um valor para [2, 2]: 9\n",
            "[  1  ][  2  ][  3  ]\n",
            "[  4  ][  5  ][  6  ]\n",
            "[  7  ][  8  ][  9  ]\n",
            "A soma dos valores pares é 20\n",
            "A soma dos valores da terceira coluna é 18\n",
            "O maior valor da segunda linha é 6 \n"
          ]
        }
      ]
    },
    {
      "cell_type": "code",
      "source": [
        "#Faça um programa que ajude um jogador da megasena a criar palpites. O programa\n",
        "#vai perguntar quantos jogos serão gerados e vai sortear 6 números entre 1 e 60\n",
        "#para cada jogo, cadastrando tudo em um lista composta\n",
        "\n",
        "from random import randint\n",
        "\n",
        "lista = list()\n",
        "jogos = list()\n",
        "quant = int(input(\"Quantos jogos você quer que eu sorteie? \"))\n",
        "tot = 1\n",
        "while tot <= quant:\n",
        "  cont = 0\n",
        "  while True:\n",
        "    num = randint(1, 60)\n",
        "    if num not in lista:\n",
        "      lista.append(num)\n",
        "      cont += 1\n",
        "    if cont >= 6:\n",
        "      break\n",
        "  lista.sort()\n",
        "  jogos.append(lista[:])\n",
        "  lista.clear()\n",
        "  tot += 1\n",
        "for i, l in enumerate(jogos):\n",
        "  print(f\"Jogo {i+1}: {l}\")"
      ],
      "metadata": {
        "colab": {
          "base_uri": "https://localhost:8080/"
        },
        "id": "c77MrToIVHQD",
        "outputId": "8abd8b6c-3aad-4ff7-eb24-638dfd4b25e8"
      },
      "execution_count": null,
      "outputs": [
        {
          "output_type": "stream",
          "name": "stdout",
          "text": [
            "Quantos jogos você quer que eu sorteie? 3\n",
            "Jogo 1: [6, 18, 20, 21, 38, 54]\n",
            "Jogo 2: [2, 6, 8, 20, 40, 59]\n",
            "Jogo 3: [7, 8, 16, 19, 28, 33]\n"
          ]
        }
      ]
    },
    {
      "cell_type": "code",
      "source": [
        "from traitlets.traitlets import Tuple\n",
        "#Crie um programa que leia nome e duas notas de vários alunos e guarde tudo em\n",
        "#uma lista composta. No final, mostra um boletim contendo a média de cada um e\n",
        "#permita que o usuário possa mostra as notas de cada aluno individualmente\n",
        "\n",
        "ficha = list()\n",
        "\n",
        "while True:\n",
        "  nome = input(\"Nome: \")\n",
        "  nota1 = float(input(\"Nota 1: \"))\n",
        "  nota2 = float(input(\"Nota 2: \"))\n",
        "  media = (nota1 + nota2) / 2\n",
        "  ficha.append([nome, [nota1, nota2], media])\n",
        "  resp = input(\"Quer continuar? [S/N] \")\n",
        "  if resp in \"Nn\":\n",
        "    break\n",
        "\n",
        "print(f\"{'N°':<4}{'Nome':<10}{'Média':>8}\")\n",
        "\n",
        "for i, a in enumerate(ficha):\n",
        "  print(f\"{i:<4}{a[0]:<10}{a[2]:>8.1f}\")\n",
        "\n",
        "while True:\n",
        "  opc = int(input(\"Mostrar notas de qual alune? (999 interrompe): \"))\n",
        "  if opc == 999:\n",
        "    print(\"Programa finalizado\")\n",
        "    break\n",
        "  if opc <= len(ficha) - 1:\n",
        "    print(f\"Notas de {ficha[opc][0]} são {ficha[opc][1]}\")"
      ],
      "metadata": {
        "id": "yHlXU-u_YQdx"
      },
      "execution_count": null,
      "outputs": []
    }
  ]
}